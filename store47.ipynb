{
 "cells": [
  {
   "cell_type": "code",
   "execution_count": 2,
   "id": "d6215ff0",
   "metadata": {},
   "outputs": [
    {
     "name": "stdout",
     "output_type": "stream",
     "text": [
      "       a  b  c\n",
      "one    1  2  3\n",
      "two    4  5  6\n",
      "three  7  8  9\n"
     ]
    }
   ],
   "source": [
    "import pandas as pd\n",
    "df=pd.DataFrame([[1,2,3],[4,5,6],[7,8,9]],index=['one','two','three'],columns=['a','b','c'])\n",
    "print(df)"
   ]
  },
  {
   "cell_type": "code",
   "execution_count": 7,
   "id": "06b44349",
   "metadata": {
    "scrolled": true
   },
   "outputs": [],
   "source": [
    "df=pd.DataFrame([[6,7],[1,2]],index=['a','b'],columns=['x','y'])\n",
    "df.to_excel(\"/Users/student/Downloads/kishor1.xlsx\")\n"
   ]
  },
  {
   "cell_type": "code",
   "execution_count": 8,
   "id": "6c7e7fe2",
   "metadata": {},
   "outputs": [
    {
     "name": "stdout",
     "output_type": "stream",
     "text": [
      "       x   y   z\n",
      "four  10  20  30\n",
      "five  40  50  60\n",
      "six   70  80  90\n"
     ]
    }
   ],
   "source": [
    "df=pd.DataFrame([[10,20,30],[40,50,60],[70,80,90]],index=[\"four\",\"five\",\"six\"],columns=['x','y','z'])\n",
    "print(df)"
   ]
  },
  {
   "cell_type": "code",
   "execution_count": 9,
   "id": "2e89c930",
   "metadata": {},
   "outputs": [],
   "source": [
    "df.to_excel(\"/Users/student/Downloads/kishor2.xlsx\")"
   ]
  },
  {
   "cell_type": "code",
   "execution_count": 11,
   "id": "2f64ebc9",
   "metadata": {},
   "outputs": [],
   "source": [
    "x=pd.read_excel(\"/Users/student/Downloads/kishor1.xlsx\")\n",
    "y=pd.read_excel(\"/Users/student/Downloads/kishor2.xlsx\")\n",
    "z=pd.concat([x,y])\n",
    "z.to_excel(\"/Users/student/Downloads/kishorj.xlsx\")"
   ]
  },
  {
   "cell_type": "code",
   "execution_count": 12,
   "id": "4b9a939e",
   "metadata": {},
   "outputs": [
    {
     "name": "stdout",
     "output_type": "stream",
     "text": [
      "  Unnamed: 0   x   y     z\n",
      "1          b   1   2   NaN\n",
      "0          a   6   7   NaN\n",
      "0       four  10  20  30.0\n",
      "1       five  40  50  60.0\n",
      "2        six  70  80  90.0\n"
     ]
    }
   ],
   "source": [
    "df=z.sort_values([\"x\"])\n",
    "print(df)\n",
    "df.to_excel(\"/Users/student/Downloads/kishorj.xlsx\")"
   ]
  },
  {
   "cell_type": "code",
   "execution_count": 13,
   "id": "4cb3d2ed",
   "metadata": {},
   "outputs": [
    {
     "name": "stdout",
     "output_type": "stream",
     "text": [
      "  Unnamed: 0   x   y     z\n",
      "1          b   1   2   NaN\n",
      "0          a   6   7   NaN\n",
      "0       four  10  20  30.0\n",
      "1       five  40  50  60.0\n",
      "2        six  70  80  90.0\n"
     ]
    }
   ],
   "source": [
    "df=z.sort_values([\"y\"])\n",
    "print(df)\n",
    "df.to_excel(\"/Users/student/Downloads/kishorj.xlsx\")"
   ]
  },
  {
   "cell_type": "code",
   "execution_count": null,
   "id": "c135a5c5",
   "metadata": {},
   "outputs": [],
   "source": []
  }
 ],
 "metadata": {
  "kernelspec": {
   "display_name": "Python 3 (ipykernel)",
   "language": "python",
   "name": "python3"
  },
  "language_info": {
   "codemirror_mode": {
    "name": "ipython",
    "version": 3
   },
   "file_extension": ".py",
   "mimetype": "text/x-python",
   "name": "python",
   "nbconvert_exporter": "python",
   "pygments_lexer": "ipython3",
   "version": "3.10.9"
  }
 },
 "nbformat": 4,
 "nbformat_minor": 5
}

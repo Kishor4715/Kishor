{
 "cells": [
  {
   "cell_type": "code",
   "execution_count": 7,
   "id": "cb2928d8",
   "metadata": {},
   "outputs": [
    {
     "name": "stdout",
     "output_type": "stream",
     "text": [
      "['K' 'I' 'S' 'H' '0' 'R']\n",
      "0    K\n",
      "1    I\n",
      "2    S\n",
      "3    H\n",
      "4    0\n",
      "5    R\n",
      "dtype: object\n"
     ]
    }
   ],
   "source": [
    "#pandasseries\n",
    "import pandas as pd\n",
    "import numpy as np\n",
    "a=np.array(['K','I','S',\"H\",\"0\",\"R\"])\n",
    "b=pd.Series(a)\n",
    "print(a)\n",
    "print(b)"
   ]
  },
  {
   "cell_type": "code",
   "execution_count": 8,
   "id": "4647345c",
   "metadata": {},
   "outputs": [
    {
     "name": "stdout",
     "output_type": "stream",
     "text": [
      "{'a': 0, 'b': 1, 'c': 3}\n",
      "a    0\n",
      "b    1\n",
      "c    3\n",
      "dtype: int64\n"
     ]
    }
   ],
   "source": [
    "#pandasseries from dict\n",
    "a={'a':0,'b':1,'c':3}\n",
    "b=pd.Series(a)\n",
    "print(a)\n",
    "print(b)"
   ]
  },
  {
   "cell_type": "code",
   "execution_count": 9,
   "id": "e6bb2c6e",
   "metadata": {},
   "outputs": [
    {
     "name": "stdout",
     "output_type": "stream",
     "text": [
      "0    4\n",
      "1    4\n",
      "2    4\n",
      "3    4\n",
      "dtype: object\n"
     ]
    }
   ],
   "source": [
    "#scalar\n",
    "scalar=pd.Series(\"4\",index=[0,1,2,3])\n",
    "print(scalar)"
   ]
  },
  {
   "cell_type": "code",
   "execution_count": 13,
   "id": "579ecf8e",
   "metadata": {},
   "outputs": [
    {
     "name": "stdout",
     "output_type": "stream",
     "text": [
      "\n",
      " series :\n",
      " 0    K\n",
      "1    I\n",
      "2    S\n",
      "3    H\n",
      "4    0\n",
      "5    R\n",
      "dtype: object\n",
      "\n",
      " index :\n",
      " RangeIndex(start=0, stop=6, step=1)\n",
      "\n",
      " values :\n",
      " ['K' 'I' 'S' 'H' '0' 'R']\n",
      "\n",
      " shape :\n",
      " (6,)\n",
      "\n",
      " dimension :\n",
      " 1\n",
      "\n",
      " size :\n",
      " 6\n"
     ]
    }
   ],
   "source": [
    "b=np.array(['K','I','S',\"H\",\"0\",\"R\"])\n",
    "a=pd.Series(b)\n",
    "print(\"\\n series :\\n\",a)\n",
    "print(\"\\n index :\\n\",a.index)\n",
    "print(\"\\n values :\\n\",a.values)\n",
    "print(\"\\n shape :\\n\",a.shape)\n",
    "print(\"\\n dimension :\\n\",a.ndim)\n",
    "print(\"\\n size :\\n\",a.size)"
   ]
  }
 ],
 "metadata": {
  "kernelspec": {
   "display_name": "Python 3 (ipykernel)",
   "language": "python",
   "name": "python3"
  },
  "language_info": {
   "codemirror_mode": {
    "name": "ipython",
    "version": 3
   },
   "file_extension": ".py",
   "mimetype": "text/x-python",
   "name": "python",
   "nbconvert_exporter": "python",
   "pygments_lexer": "ipython3",
   "version": "3.10.9"
  }
 },
 "nbformat": 4,
 "nbformat_minor": 5
}

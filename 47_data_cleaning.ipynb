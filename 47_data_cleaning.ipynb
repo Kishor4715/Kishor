{
 "cells": [
  {
   "cell_type": "code",
   "execution_count": 13,
   "id": "8e2a66a0",
   "metadata": {},
   "outputs": [
    {
     "name": "stdout",
     "output_type": "stream",
     "text": [
      "\n",
      "         one       two     three\n",
      "a -0.034053 -0.217340 -0.227520\n",
      "b  0.516740  2.218451 -0.979133\n",
      "c       NaN       NaN       NaN\n",
      "d  0.724068 -1.281108  1.612520\n",
      "e       NaN       NaN       NaN\n",
      "f -0.019877 -0.900951  0.274432\n",
      "\n",
      "\n",
      "\n",
      "         one       two     three\n",
      "a -0.034053 -0.217340 -0.227520\n",
      "b  0.516740  2.218451 -0.979133\n",
      "d  0.724068 -1.281108  1.612520\n",
      "f -0.019877 -0.900951  0.274432\n",
      "\n",
      "\n",
      "        one       two     three\n",
      "a -0.034053  -0.21734  -0.22752\n",
      "b   0.51674  2.218451 -0.979133\n",
      "c         0         0         0\n",
      "d  0.724068 -1.281108   1.61252\n",
      "e         0         0         0\n",
      "f -0.019877 -0.900951  0.274432 \n",
      "\n",
      "a    False\n",
      "b    False\n",
      "c     True\n",
      "d    False\n",
      "e     True\n",
      "f    False\n",
      "Name: one, dtype: bool \n",
      "\n",
      "        one       two     three\n",
      "a -0.034053 -0.217340 -0.227520\n",
      "b  0.516740  2.218451 -0.979133\n",
      "c  0.516740  2.218451 -0.979133\n",
      "d  0.724068 -1.281108  1.612520\n",
      "e  0.724068 -1.281108  1.612520\n",
      "f -0.019877 -0.900951  0.274432 \n",
      "\n",
      "        one       two     three\n",
      "a -0.034053 -0.217340 -0.227520\n",
      "b  0.516740  2.218451 -0.979133\n",
      "c  0.724068 -1.281108  1.612520\n",
      "d  0.724068 -1.281108  1.612520\n",
      "e -0.019877 -0.900951  0.274432\n",
      "f -0.019877 -0.900951  0.274432 \n",
      "\n"
     ]
    }
   ],
   "source": [
    "import pandas as pd\n",
    "import numpy as np\n",
    "df=pd.DataFrame(np.random.randn(4,3),index=['a','b','d','f'],columns=['one','two','three'])\n",
    "df=df.reindex(['a','b','c','d','e','f'])\n",
    "print(\"\\n\",df)\n",
    "print(\"\\n\")\n",
    "#to drop a number\n",
    "print(\"\\n\",df.dropna())\n",
    "print(\"\\n\")\n",
    "#fill NaN with 0\n",
    "print(df.fillna(\"0\"),\"\\n\")\n",
    "#NaN with true fill\n",
    "print(df['one'].isnull(),\"\\n\")\n",
    "#forward fill\n",
    "print(df.fillna(method='ffill'),\"\\n\")\n",
    "#backward fill\n",
    "print(df.fillna(method='bfill'),\"\\n\")"
   ]
  },
  {
   "cell_type": "code",
   "execution_count": 2,
   "id": "bd3bbbc1",
   "metadata": {},
   "outputs": [
    {
     "name": "stdout",
     "output_type": "stream",
     "text": [
      "Orginal\n",
      "    one  two\n",
      "0   10   60\n",
      "1   20   70\n",
      "2   30   80\n",
      "3   40   90\n",
      "4   50  100\n",
      "   one  two\n",
      "0    5   60\n",
      "1   20   70\n",
      "2   30   80\n",
      "3   40   90\n",
      "4   90  100\n"
     ]
    }
   ],
   "source": [
    "import pandas as pd\n",
    "a=pd.DataFrame({'one':[10,20,30,40,50],'two':[60,70,80,90,100]})\n",
    "print(\"Original\\n\",a)\n",
    "print(a.replace({10:5,50:90}))"
   ]
  },
  {
   "cell_type": "code",
   "execution_count": null,
   "id": "42801b45",
   "metadata": {},
   "outputs": [],
   "source": []
  }
 ],
 "metadata": {
  "kernelspec": {
   "display_name": "Python 3 (ipykernel)",
   "language": "python",
   "name": "python3"
  },
  "language_info": {
   "codemirror_mode": {
    "name": "ipython",
    "version": 3
   },
   "file_extension": ".py",
   "mimetype": "text/x-python",
   "name": "python",
   "nbconvert_exporter": "python",
   "pygments_lexer": "ipython3",
   "version": "3.10.9"
  }
 },
 "nbformat": 4,
 "nbformat_minor": 5
}

{
 "cells": [
  {
   "cell_type": "code",
   "execution_count": 1,
   "id": "1fff6001",
   "metadata": {},
   "outputs": [
    {
     "name": "stdout",
     "output_type": "stream",
     "text": [
      "     Name  Age\n",
      "0     Sai   20\n",
      "1  Sabari   21\n",
      "2  Sankar   22\n",
      "   qualified\n",
      "0       True\n",
      "1       True\n",
      "2      False\n",
      "     Name  Age  qualified\n",
      "0     Sai   20       True\n",
      "1  Sabari   21       True\n",
      "2  Sankar   22      False\n"
     ]
    }
   ],
   "source": [
    "#dataframe joining\n",
    "import pandas as pd\n",
    "d1={\"Name\":[\"Sai\",\"Sabari\",\"Sankar\"],\"Age\":[20,21,22]}\n",
    "d2={\"qualified\":[True,True,False]}\n",
    "df1=pd.DataFrame(d1)\n",
    "print(df1)\n",
    "df2=pd.DataFrame(d2)\n",
    "print(df2)\n",
    "new=df1.join(df2)\n",
    "print(new)"
   ]
  },
  {
   "cell_type": "code",
   "execution_count": 2,
   "id": "fa5863b5",
   "metadata": {},
   "outputs": [
    {
     "name": "stdout",
     "output_type": "stream",
     "text": [
      "     Name  Age\n",
      "0     Sai   20\n",
      "1  Sabari   21\n",
      "2  Sankar   22\n",
      "    Name  Age\n",
      "0  Gopal   20\n",
      "1    Ram   21\n",
      "2   Raja   22\n",
      "   Name_x  Age Name_y\n",
      "0     Sai   20  Gopal\n",
      "1  Sabari   21    Ram\n",
      "2  Sankar   22   Raja\n"
     ]
    }
   ],
   "source": [
    "#dataframe merging\n",
    "d1={\"Name\":[\"Sai\",\"Sabari\",\"Sankar\"],\"Age\":[20,21,22]}\n",
    "d2={\"Name\":[\"Gopal\",\"Ram\",\"Raja\"],\"Age\":[20,21,22]}\n",
    "df1=pd.DataFrame(d1)\n",
    "print(df1)\n",
    "df2=pd.DataFrame(d2)\n",
    "print(df2)\n",
    "n1=(df1.merge(df2,on=\"Age\"))\n",
    "print(n1)"
   ]
  },
  {
   "cell_type": "code",
   "execution_count": 3,
   "id": "d174b72a",
   "metadata": {},
   "outputs": [
    {
     "name": "stdout",
     "output_type": "stream",
     "text": [
      "  team  points assists rebounds\n",
      "0    A      90      12       56\n",
      "1    B      56      34       43\n",
      "2    C      78      23       55\n",
      "3    D      88      44       12\n",
      "   team  variable value\n",
      "0     A    points    90\n",
      "1     B    points    56\n",
      "2     C    points    78\n",
      "3     D    points    88\n",
      "4     A   assists    12\n",
      "5     B   assists    34\n",
      "6     C   assists    23\n",
      "7     D   assists    44\n",
      "8     A  rebounds    56\n",
      "9     B  rebounds    43\n",
      "10    C  rebounds    55\n",
      "11    D  rebounds    12\n"
     ]
    }
   ],
   "source": [
    "#dataframe combining\n",
    "df=pd.DataFrame({'team':['A','B','C','D'],'points':[90,56,78,88],'assists':['12','34','23','44'],'rebounds':['56','43','55','12']})\n",
    "print(df)\n",
    "df=pd.melt(df,id_vars=\"team\",value_vars=[\"points\",\"assists\",\"rebounds\"])\n",
    "print(df)"
   ]
  },
  {
   "cell_type": "code",
   "execution_count": null,
   "id": "72aa774e",
   "metadata": {},
   "outputs": [],
   "source": []
  }
 ],
 "metadata": {
  "kernelspec": {
   "display_name": "Python 3 (ipykernel)",
   "language": "python",
   "name": "python3"
  },
  "language_info": {
   "codemirror_mode": {
    "name": "ipython",
    "version": 3
   },
   "file_extension": ".py",
   "mimetype": "text/x-python",
   "name": "python",
   "nbconvert_exporter": "python",
   "pygments_lexer": "ipython3",
   "version": "3.10.9"
  }
 },
 "nbformat": 4,
 "nbformat_minor": 5
}

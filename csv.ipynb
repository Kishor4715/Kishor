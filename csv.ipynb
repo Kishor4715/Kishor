{
 "cells": [
  {
   "cell_type": "code",
   "execution_count": 4,
   "id": "fac3e73d",
   "metadata": {},
   "outputs": [
    {
     "name": "stdout",
     "output_type": "stream",
     "text": [
      "    Si.No    First Name  Gender Login Time  Salary  Bonous Team(Department)  \\\n",
      "0     1.0        Kishor    Male    9:00 AM  30,000  5000.0                F   \n",
      "1     2.0       Kailash    Male   10:00 AM  29,500  4900.0                F   \n",
      "2     3.0       Mathosh  Female   11:00 AM   3,100   500.0                F   \n",
      "3     4.0     Kanishkar    Male   12:00 PM  29,000  5000.0                F   \n",
      "4     5.0  KavinChandar    Male    1:00 PM  32,000  5100.0                F   \n",
      "..    ...           ...     ...        ...     ...     ...              ...   \n",
      "95   96.0           NaN     NaN        NaN     NaN     NaN              NaN   \n",
      "96   97.0           NaN     NaN        NaN     NaN     NaN              NaN   \n",
      "97   98.0           NaN     NaN        NaN     NaN     NaN              NaN   \n",
      "98   99.0           NaN     NaN        NaN     NaN     NaN              NaN   \n",
      "99  100.0           NaN     NaN        NaN     NaN     NaN              NaN   \n",
      "\n",
      "   Log Out Time  \n",
      "0       3:00 PM  \n",
      "1       4:00 PM  \n",
      "2       5:00 PM  \n",
      "3       6:00 PM  \n",
      "4       7:00 PM  \n",
      "..          ...  \n",
      "95          NaN  \n",
      "96          NaN  \n",
      "97          NaN  \n",
      "98          NaN  \n",
      "99          NaN  \n",
      "\n",
      "[100 rows x 8 columns]\n"
     ]
    }
   ],
   "source": [
    "import pandas as pd\n",
    "d=pd.read_csv(\"/Users/student/Downloads/randoms - Sheet1.csv\")\n",
    "print(d)"
   ]
  },
  {
   "cell_type": "code",
   "execution_count": 5,
   "id": "de1c89a9",
   "metadata": {},
   "outputs": [
    {
     "name": "stdout",
     "output_type": "stream",
     "text": [
      "Columns Index(['Si.No', 'First Name', 'Gender', 'Login Time', 'Salary', 'Bonous',\n",
      "       'Team(Department)', 'Log Out Time'],\n",
      "      dtype='object')\n",
      "(100, 8)\n"
     ]
    }
   ],
   "source": [
    "#particulars\n",
    "df=pd.DataFrame(d)\n",
    "print(\"Columns\",df.columns)\n",
    "print(df.shape)"
   ]
  },
  {
   "cell_type": "code",
   "execution_count": 6,
   "id": "04854f64",
   "metadata": {},
   "outputs": [
    {
     "name": "stdout",
     "output_type": "stream",
     "text": [
      "First Name 0           Kishor\n",
      "1          Kailash\n",
      "2          Mathosh\n",
      "3        Kanishkar\n",
      "4     KavinChandar\n",
      "          ...     \n",
      "95             NaN\n",
      "96             NaN\n",
      "97             NaN\n",
      "98             NaN\n",
      "99             NaN\n",
      "Name: First Name, Length: 100, dtype: object\n"
     ]
    }
   ],
   "source": [
    "#specific particularas\n",
    "print(\"First Name\",df[\"First Name\"])"
   ]
  },
  {
   "cell_type": "code",
   "execution_count": 7,
   "id": "dff9d05a",
   "metadata": {},
   "outputs": [
    {
     "name": "stdout",
     "output_type": "stream",
     "text": [
      "   Si.No          First Name Gender Login Time  Salary  Bonous  \\\n",
      "5    6.0      KishoreKarthik   Male    2:00 PM  20,000  5000.0   \n",
      "6    7.0  Johan Makten Clave   Male    3:00 PM  30,000  5000.0   \n",
      "7    8.0            Hirendar   Male    4:00 PM  30,000  5000.0   \n",
      "8    9.0       Jeffin Joseph   Male    5:00 PM  30,000  5000.0   \n",
      "9   10.0               Fahim   Male    6:00 PM  30,000  5000.0   \n",
      "\n",
      "  Team(Department) Log Out Time  \n",
      "5                F      8:00 PM  \n",
      "6                F      9:00 PM  \n",
      "7                F     10:00 PM  \n",
      "8                F     11:00 PM  \n",
      "9                F     12:00 AM  \n"
     ]
    }
   ],
   "source": [
    "#slicing\n",
    "print(df[5:10])"
   ]
  },
  {
   "cell_type": "code",
   "execution_count": 8,
   "id": "01fcfe86",
   "metadata": {},
   "outputs": [
    {
     "name": "stdout",
     "output_type": "stream",
     "text": [
      "Hey  Si.No                             47.0\n",
      "First Name          Johan Makten Clave\n",
      "Gender                            Male\n",
      "Login Time                  1:00:00 AM\n",
      "Salary                      36445.8853\n",
      "Bonous                     6356.077135\n",
      "Team(Department)                     F\n",
      "Log Out Time                9:00:00 PM\n",
      "Name: 47, dtype: object\n"
     ]
    }
   ],
   "source": [
    "#particular person\n",
    "print(\"Hey \",df.loc[47])"
   ]
  },
  {
   "cell_type": "code",
   "execution_count": 10,
   "id": "5165439b",
   "metadata": {},
   "outputs": [
    {
     "name": "stdout",
     "output_type": "stream",
     "text": [
      "Empty DataFrame\n",
      "Columns: [Si.No, First Name, Gender, Login Time, Salary, Bonous, Team(Department), Log Out Time]\n",
      "Index: []\n"
     ]
    }
   ],
   "source": [
    "#salary\n",
    "print(d.loc[d['Salary']==25000])"
   ]
  },
  {
   "cell_type": "code",
   "execution_count": 17,
   "id": "89caf0db",
   "metadata": {},
   "outputs": [
    {
     "name": "stdout",
     "output_type": "stream",
     "text": [
      "    Si.No    First Name  Gender Login Time  Salary  Bonous Team(Department)  \\\n",
      "0     1.0        Kishor    Male    9:00 AM  30,000  5000.0                F   \n",
      "1     2.0       Kailash    Male   10:00 AM  29,500  4900.0                F   \n",
      "2     3.0       Mathosh  Female   11:00 AM   3,100   500.0                F   \n",
      "3     4.0     Kanishkar    Male   12:00 PM  29,000  5000.0                F   \n",
      "4     5.0  KavinChandar    Male    1:00 PM  32,000  5100.0                F   \n",
      "..    ...           ...     ...        ...     ...     ...              ...   \n",
      "95   96.0           NaN     NaN        NaN     NaN     NaN              NaN   \n",
      "96   97.0           NaN     NaN        NaN     NaN     NaN              NaN   \n",
      "97   98.0           NaN     NaN        NaN     NaN     NaN              NaN   \n",
      "98   99.0           NaN     NaN        NaN     NaN     NaN              NaN   \n",
      "99  100.0           NaN     NaN        NaN     NaN     NaN              NaN   \n",
      "\n",
      "   Log Out Time  \n",
      "0       3:00 PM  \n",
      "1       4:00 PM  \n",
      "2       5:00 PM  \n",
      "3       6:00 PM  \n",
      "4       7:00 PM  \n",
      "..          ...  \n",
      "95          NaN  \n",
      "96          NaN  \n",
      "97          NaN  \n",
      "98          NaN  \n",
      "99          NaN  \n",
      "\n",
      "[100 rows x 8 columns]\n"
     ]
    }
   ],
   "source": [
    "import pandas as pd\n",
    "d=pd.read_csv(\"randoms - Sheet1.csv\")\n",
    "print(d)"
   ]
  },
  {
   "cell_type": "code",
   "execution_count": null,
   "id": "2ad6c23a",
   "metadata": {},
   "outputs": [],
   "source": []
  }
 ],
 "metadata": {
  "kernelspec": {
   "display_name": "Python 3 (ipykernel)",
   "language": "python",
   "name": "python3"
  },
  "language_info": {
   "codemirror_mode": {
    "name": "ipython",
    "version": 3
   },
   "file_extension": ".py",
   "mimetype": "text/x-python",
   "name": "python",
   "nbconvert_exporter": "python",
   "pygments_lexer": "ipython3",
   "version": "3.10.9"
  }
 },
 "nbformat": 4,
 "nbformat_minor": 5
}

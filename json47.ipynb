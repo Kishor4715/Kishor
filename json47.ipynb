{
 "cells": [
  {
   "cell_type": "code",
   "execution_count": 7,
   "id": "d3e8d9e7",
   "metadata": {},
   "outputs": [],
   "source": [
    "f=open(\"/Users/student/Downloads/230901047.txt\",\"w\")\n",
    "f.write(\"Hi\\n\")\n",
    "f.write(\"Hello\\n\")\n",
    "f.close()"
   ]
  },
  {
   "cell_type": "code",
   "execution_count": 8,
   "id": "00bdd5fc",
   "metadata": {},
   "outputs": [
    {
     "name": "stdout",
     "output_type": "stream",
     "text": [
      "Hi\n",
      "\n",
      "Hello\n",
      "\n"
     ]
    }
   ],
   "source": [
    "a=open(\"/Users/student/Downloads/230901047.txt\",\"r\")\n",
    "print(a.readline())\n",
    "print(a.readline())\n",
    "a.close()"
   ]
  },
  {
   "cell_type": "code",
   "execution_count": 10,
   "id": "72f04bfb",
   "metadata": {},
   "outputs": [],
   "source": [
    "b=open(\"/Users/student/Downloads/230901047.txt\",\"a\")\n",
    "b.write(\"Kishor\\n\")\n",
    "b.write(\"Kailash\\n\")\n",
    "b.close()"
   ]
  },
  {
   "cell_type": "code",
   "execution_count": 12,
   "id": "201e8d6c",
   "metadata": {},
   "outputs": [
    {
     "name": "stdout",
     "output_type": "stream",
     "text": [
      "Hi\n",
      "Hello\n",
      "Kishor\n",
      "Kailash\n",
      "Kishor\n",
      "Kailash\n",
      "\n"
     ]
    }
   ],
   "source": [
    "c=open(\"/Users/student/Downloads/230901047.txt\",\"r\")\n",
    "print(c.read())\n",
    "c.close()"
   ]
  },
  {
   "cell_type": "code",
   "execution_count": 13,
   "id": "67e5f1f0",
   "metadata": {},
   "outputs": [
    {
     "name": "stdout",
     "output_type": "stream",
     "text": [
      "['Hi\\n', 'Hello\\n', 'Kishor\\n', 'Kailash\\n', 'Kishor\\n', 'Kailash\\n']\n"
     ]
    }
   ],
   "source": [
    "with open (\"/Users/student/Downloads/230901047.txt\",\"r\") as file:\n",
    "    lines=file.readlines()\n",
    "    print(lines)"
   ]
  },
  {
   "cell_type": "code",
   "execution_count": 17,
   "id": "ef4ae9f6",
   "metadata": {},
   "outputs": [
    {
     "name": "stdout",
     "output_type": "stream",
     "text": [
      "Dindigul\n",
      "\"{\\\"Name\\\":\\\"Kishor\\\",\\\"Age\\\":\\\"19\\\",\\\"City\\\":\\\"Dindigul\\\"}\"\n"
     ]
    }
   ],
   "source": [
    "import json\n",
    "x='{\"Name\":\"Kishor\",\"Age\":\"19\",\"City\":\"Dindigul\"}'\n",
    "y=json.loads(x)\n",
    "print(y[\"City\"])\n",
    "y=json.dumps(x)\n",
    "print(y)"
   ]
  }
 ],
 "metadata": {
  "kernelspec": {
   "display_name": "Python 3 (ipykernel)",
   "language": "python",
   "name": "python3"
  },
  "language_info": {
   "codemirror_mode": {
    "name": "ipython",
    "version": 3
   },
   "file_extension": ".py",
   "mimetype": "text/x-python",
   "name": "python",
   "nbconvert_exporter": "python",
   "pygments_lexer": "ipython3",
   "version": "3.10.9"
  }
 },
 "nbformat": 4,
 "nbformat_minor": 5
}
